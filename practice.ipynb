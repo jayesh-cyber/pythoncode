{
 "cells": [
  {
   "cell_type": "code",
   "execution_count": 3,
   "metadata": {},
   "outputs": [
    {
     "name": "stdout",
     "output_type": "stream",
     "text": [
      "\n",
      "* \n",
      "* \n",
      "* * \n",
      "* * \n",
      "* * * \n",
      "* * * \n",
      "* * * * \n",
      "* * * * \n",
      "* * * * * \n"
     ]
    }
   ],
   "source": [
    "n=5;\n",
    "for i in range(n):\n",
    "    for j in range(i):\n",
    "        print ('* ', end=\"\")\n",
    "    print('')\n",
    "    for j in range(i+1):\n",
    "        print ('* ', end=\"\")\n",
    "    print('')\n",
    "\n"
   ]
  },
  {
   "cell_type": "code",
   "execution_count": 5,
   "metadata": {},
   "outputs": [
    {
     "name": "stdout",
     "output_type": "stream",
     "text": [
      "Twinkle, twinkle, little star, \n",
      "\tHow I wonder what you are! \n",
      "\t\tUp above the world so high, \n",
      "\t\tLike a diamond in the sky. \n",
      "Twinkle, twinkle, little star, \n",
      "\tHow I wonder what you are!\n"
     ]
    }
   ],
   "source": [
    "print(\"Twinkle, twinkle, little star, \\n\\tHow I wonder what you are! \\n\\t\\tUp above the world so high, \\n\\t\\tLike a diamond in the sky. \\nTwinkle, twinkle, little star, \\n\\tHow I wonder what you are!\")\n"
   ]
  },
  {
   "cell_type": "code",
   "execution_count": 10,
   "metadata": {},
   "outputs": [
    {
     "name": "stdout",
     "output_type": "stream",
     "text": [
      "enter your first name:jayesh\n",
      "enter your last name:ahir\n",
      "hello ahir jayesh\n"
     ]
    }
   ],
   "source": [
    "fname=input('enter your first name:')\n",
    "lname=input('enter your last name:')\n",
    "print('hello ' +lname +' ' +fname)"
   ]
  },
  {
   "cell_type": "code",
   "execution_count": 12,
   "metadata": {},
   "outputs": [
    {
     "name": "stdout",
     "output_type": "stream",
     "text": [
      "red green\n"
     ]
    }
   ],
   "source": [
    "colors=['red','black','green','blue']\n",
    "print(colors[0],colors[2])"
   ]
  },
  {
   "cell_type": "code",
   "execution_count": 7,
   "metadata": {},
   "outputs": [
    {
     "name": "stdout",
     "output_type": "stream",
     "text": [
      "enter range6\n",
      "0\n",
      "6\n",
      "6\n"
     ]
    }
   ],
   "source": [
    "n=int(input(\"enter range\"))\n",
    "a = 0\n",
    "while a < 10:\n",
    "        print(a)\n",
    "        a, n = n, a+n\n"
   ]
  },
  {
   "cell_type": "code",
   "execution_count": 7,
   "metadata": {},
   "outputs": [
    {
     "name": "stdout",
     "output_type": "stream",
     "text": [
      "enter a number:5\n",
      "\n",
      "***** *****\n",
      "****   ****\n",
      "***     ***\n",
      "**       **\n",
      "*         *\n"
     ]
    }
   ],
   "source": [
    "n=int(input(\"enter a number:\"))\n",
    "print(\"\") \n",
    "j = 0\n",
    "      \n",
    "    # for top half  \n",
    "for i in range(0,n):  \n",
    "          \n",
    "        # for left *  \n",
    "        for j in range(i,n): \n",
    "            print(\"*\",end=\"\") \n",
    "              \n",
    "        # for middle \" \" \n",
    "        for j in range(0,2 * i + 1): \n",
    "            print(\" \",end=\"\") \n",
    "              \n",
    "        # for right *  \n",
    "        for j in range(i,n): \n",
    "            print(\"*\",end=\"\") \n",
    "              \n",
    "        print(\"\") \n",
    "      \n",
    "    # for below half  \n",
    "for i in range(0,n-1): \n",
    "          \n",
    "        # for left *  \n",
    "        for j in range(0, i+2): \n",
    "            print(\"*\",end=\"\") \n",
    "              \n",
    "        # for middle \" \"  \n",
    "        for j in range(0,2 * (n - 1 - i) - 1): \n",
    "            print(\" \",end=\"\") \n",
    "              \n",
    "        # for right *  \n",
    "        for j in range(0, i+2): \n",
    "            print(\"*\",end=\"\") \n",
    "              \n",
    "        print(\"\") \n",
    "          \n",
    "print(\"\") "
   ]
  },
  {
   "cell_type": "code",
   "execution_count": 9,
   "metadata": {},
   "outputs": [],
   "source": [
    "def hello(name):\n",
    "    name=str(input())\n",
    "    if name:\n",
    "        print (\"Hello \" + str(name))\n",
    "    else:\n",
    "        print(\"Hello World\") \n",
    "    return "
   ]
  },
  {
   "cell_type": "code",
   "execution_count": 10,
   "metadata": {},
   "outputs": [
    {
     "ename": "NameError",
     "evalue": "name 'jay' is not defined",
     "output_type": "error",
     "traceback": [
      "\u001b[1;31m---------------------------------------------------------------------------\u001b[0m",
      "\u001b[1;31mNameError\u001b[0m                                 Traceback (most recent call last)",
      "\u001b[1;32m<ipython-input-10-4839d7947f39>\u001b[0m in \u001b[0;36m<module>\u001b[1;34m()\u001b[0m\n\u001b[1;32m----> 1\u001b[1;33m \u001b[0mhello\u001b[0m\u001b[1;33m(\u001b[0m\u001b[0mjay\u001b[0m\u001b[1;33m)\u001b[0m\u001b[1;33m\u001b[0m\u001b[0m\n\u001b[0m",
      "\u001b[1;31mNameError\u001b[0m: name 'jay' is not defined"
     ]
    }
   ],
   "source": [
    "hello(jay)"
   ]
  },
  {
   "cell_type": "code",
   "execution_count": null,
   "metadata": {},
   "outputs": [],
   "source": []
  }
 ],
 "metadata": {
  "kernelspec": {
   "display_name": "Python 3",
   "language": "python",
   "name": "python3"
  },
  "language_info": {
   "codemirror_mode": {
    "name": "ipython",
    "version": 3
   },
   "file_extension": ".py",
   "mimetype": "text/x-python",
   "name": "python",
   "nbconvert_exporter": "python",
   "pygments_lexer": "ipython3",
   "version": "3.7.0"
  }
 },
 "nbformat": 4,
 "nbformat_minor": 2
}
