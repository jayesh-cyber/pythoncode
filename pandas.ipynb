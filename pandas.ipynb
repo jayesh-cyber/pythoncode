{
 "cells": [
  {
   "cell_type": "code",
   "execution_count": 1,
   "metadata": {},
   "outputs": [],
   "source": [
    "import pandas as pd\n",
    "import numpy as np\n",
    "import matplotlib.pyplot as plt\n",
    "%matplotlib inline"
   ]
  },
  {
   "cell_type": "code",
   "execution_count": 2,
   "metadata": {},
   "outputs": [],
   "source": [
    "s = pd.Series(['ajay','sachin','nidhi','koshin','nikita'])"
   ]
  },
  {
   "cell_type": "code",
   "execution_count": 3,
   "metadata": {},
   "outputs": [
    {
     "data": {
      "text/plain": [
       "0      ajay\n",
       "1    sachin\n",
       "2     nidhi\n",
       "3    koshin\n",
       "4    nikita\n",
       "dtype: object"
      ]
     },
     "execution_count": 3,
     "metadata": {},
     "output_type": "execute_result"
    }
   ],
   "source": [
    "s\n"
   ]
  },
  {
   "cell_type": "code",
   "execution_count": 4,
   "metadata": {},
   "outputs": [],
   "source": [
    "sd={\n",
    "    'name':['jayesh','ajay','hetansh','hrishva'],\n",
    "    'age':[22,24,26,20],\n",
    "    'gender':['male','male','male','female'],\n",
    "    'math':[52,48,68,99],\n",
    "    'phy':[89,95,98,98],\n",
    "    'chem':[62,68,70,97]\n",
    "}"
   ]
  },
  {
   "cell_type": "code",
   "execution_count": 5,
   "metadata": {},
   "outputs": [],
   "source": [
    "df=pd.DataFrame(sd)"
   ]
  },
  {
   "cell_type": "code",
   "execution_count": 6,
   "metadata": {},
   "outputs": [
    {
     "data": {
      "text/html": [
       "<div>\n",
       "<style scoped>\n",
       "    .dataframe tbody tr th:only-of-type {\n",
       "        vertical-align: middle;\n",
       "    }\n",
       "\n",
       "    .dataframe tbody tr th {\n",
       "        vertical-align: top;\n",
       "    }\n",
       "\n",
       "    .dataframe thead th {\n",
       "        text-align: right;\n",
       "    }\n",
       "</style>\n",
       "<table border=\"1\" class=\"dataframe\">\n",
       "  <thead>\n",
       "    <tr style=\"text-align: right;\">\n",
       "      <th></th>\n",
       "      <th>name</th>\n",
       "      <th>age</th>\n",
       "      <th>gender</th>\n",
       "      <th>math</th>\n",
       "      <th>phy</th>\n",
       "      <th>chem</th>\n",
       "    </tr>\n",
       "  </thead>\n",
       "  <tbody>\n",
       "    <tr>\n",
       "      <th>0</th>\n",
       "      <td>jayesh</td>\n",
       "      <td>22</td>\n",
       "      <td>male</td>\n",
       "      <td>52</td>\n",
       "      <td>89</td>\n",
       "      <td>62</td>\n",
       "    </tr>\n",
       "    <tr>\n",
       "      <th>1</th>\n",
       "      <td>ajay</td>\n",
       "      <td>24</td>\n",
       "      <td>male</td>\n",
       "      <td>48</td>\n",
       "      <td>95</td>\n",
       "      <td>68</td>\n",
       "    </tr>\n",
       "    <tr>\n",
       "      <th>2</th>\n",
       "      <td>hetansh</td>\n",
       "      <td>26</td>\n",
       "      <td>male</td>\n",
       "      <td>68</td>\n",
       "      <td>98</td>\n",
       "      <td>70</td>\n",
       "    </tr>\n",
       "    <tr>\n",
       "      <th>3</th>\n",
       "      <td>hrishva</td>\n",
       "      <td>20</td>\n",
       "      <td>female</td>\n",
       "      <td>99</td>\n",
       "      <td>98</td>\n",
       "      <td>97</td>\n",
       "    </tr>\n",
       "  </tbody>\n",
       "</table>\n",
       "</div>"
      ],
      "text/plain": [
       "      name  age  gender  math  phy  chem\n",
       "0   jayesh   22    male    52   89    62\n",
       "1     ajay   24    male    48   95    68\n",
       "2  hetansh   26    male    68   98    70\n",
       "3  hrishva   20  female    99   98    97"
      ]
     },
     "execution_count": 6,
     "metadata": {},
     "output_type": "execute_result"
    }
   ],
   "source": [
    "df"
   ]
  },
  {
   "cell_type": "code",
   "execution_count": 7,
   "metadata": {},
   "outputs": [
    {
     "data": {
      "text/html": [
       "<div>\n",
       "<style scoped>\n",
       "    .dataframe tbody tr th:only-of-type {\n",
       "        vertical-align: middle;\n",
       "    }\n",
       "\n",
       "    .dataframe tbody tr th {\n",
       "        vertical-align: top;\n",
       "    }\n",
       "\n",
       "    .dataframe thead th {\n",
       "        text-align: right;\n",
       "    }\n",
       "</style>\n",
       "<table border=\"1\" class=\"dataframe\">\n",
       "  <thead>\n",
       "    <tr style=\"text-align: right;\">\n",
       "      <th></th>\n",
       "      <th>name</th>\n",
       "      <th>age</th>\n",
       "      <th>gender</th>\n",
       "      <th>math</th>\n",
       "      <th>phy</th>\n",
       "      <th>chem</th>\n",
       "    </tr>\n",
       "  </thead>\n",
       "  <tbody>\n",
       "    <tr>\n",
       "      <th>0</th>\n",
       "      <td>jayesh</td>\n",
       "      <td>22</td>\n",
       "      <td>male</td>\n",
       "      <td>52</td>\n",
       "      <td>89</td>\n",
       "      <td>62</td>\n",
       "    </tr>\n",
       "    <tr>\n",
       "      <th>1</th>\n",
       "      <td>ajay</td>\n",
       "      <td>24</td>\n",
       "      <td>male</td>\n",
       "      <td>48</td>\n",
       "      <td>95</td>\n",
       "      <td>68</td>\n",
       "    </tr>\n",
       "  </tbody>\n",
       "</table>\n",
       "</div>"
      ],
      "text/plain": [
       "     name  age gender  math  phy  chem\n",
       "0  jayesh   22   male    52   89    62\n",
       "1    ajay   24   male    48   95    68"
      ]
     },
     "execution_count": 7,
     "metadata": {},
     "output_type": "execute_result"
    }
   ],
   "source": [
    "df.head(2)"
   ]
  },
  {
   "cell_type": "code",
   "execution_count": 8,
   "metadata": {},
   "outputs": [
    {
     "data": {
      "text/plain": [
       "<matplotlib.axes._subplots.AxesSubplot at 0x4227e31e80>"
      ]
     },
     "execution_count": 8,
     "metadata": {},
     "output_type": "execute_result"
    },
    {
     "data": {
      "image/png": "[encoded data removed]",
      "text/plain": [
       "<Figure size 432x288 with 1 Axes>"
      ]
     },
     "metadata": {
      "needs_background": "light"
     },
     "output_type": "display_data"
    }
   ],
   "source": [
    "df.plot()"
   ]
  },
  {
   "cell_type": "code",
   "execution_count": 9,
   "metadata": {},
   "outputs": [
    {
     "data": {
      "text/html": [
       "<div>\n",
       "<style scoped>\n",
       "    .dataframe tbody tr th:only-of-type {\n",
       "        vertical-align: middle;\n",
       "    }\n",
       "\n",
       "    .dataframe tbody tr th {\n",
       "        vertical-align: top;\n",
       "    }\n",
       "\n",
       "    .dataframe thead th {\n",
       "        text-align: right;\n",
       "    }\n",
       "</style>\n",
       "<table border=\"1\" class=\"dataframe\">\n",
       "  <thead>\n",
       "    <tr style=\"text-align: right;\">\n",
       "      <th></th>\n",
       "      <th>name</th>\n",
       "      <th>age</th>\n",
       "      <th>gender</th>\n",
       "      <th>math</th>\n",
       "      <th>phy</th>\n",
       "      <th>chem</th>\n",
       "    </tr>\n",
       "  </thead>\n",
       "  <tbody>\n",
       "    <tr>\n",
       "      <th>0</th>\n",
       "      <td>jayesh</td>\n",
       "      <td>22</td>\n",
       "      <td>male</td>\n",
       "      <td>52</td>\n",
       "      <td>89</td>\n",
       "      <td>62</td>\n",
       "    </tr>\n",
       "    <tr>\n",
       "      <th>1</th>\n",
       "      <td>ajay</td>\n",
       "      <td>24</td>\n",
       "      <td>male</td>\n",
       "      <td>48</td>\n",
       "      <td>95</td>\n",
       "      <td>68</td>\n",
       "    </tr>\n",
       "    <tr>\n",
       "      <th>2</th>\n",
       "      <td>hetansh</td>\n",
       "      <td>26</td>\n",
       "      <td>male</td>\n",
       "      <td>68</td>\n",
       "      <td>98</td>\n",
       "      <td>70</td>\n",
       "    </tr>\n",
       "    <tr>\n",
       "      <th>3</th>\n",
       "      <td>hrishva</td>\n",
       "      <td>20</td>\n",
       "      <td>female</td>\n",
       "      <td>99</td>\n",
       "      <td>98</td>\n",
       "      <td>97</td>\n",
       "    </tr>\n",
       "  </tbody>\n",
       "</table>\n",
       "</div>"
      ],
      "text/plain": [
       "      name  age  gender  math  phy  chem\n",
       "0   jayesh   22    male    52   89    62\n",
       "1     ajay   24    male    48   95    68\n",
       "2  hetansh   26    male    68   98    70\n",
       "3  hrishva   20  female    99   98    97"
      ]
     },
     "execution_count": 9,
     "metadata": {},
     "output_type": "execute_result"
    }
   ],
   "source": [
    "df"
   ]
  },
  {
   "cell_type": "code",
   "execution_count": 10,
   "metadata": {},
   "outputs": [
    {
     "data": {
      "text/html": [
       "<div>\n",
       "<style scoped>\n",
       "    .dataframe tbody tr th:only-of-type {\n",
       "        vertical-align: middle;\n",
       "    }\n",
       "\n",
       "    .dataframe tbody tr th {\n",
       "        vertical-align: top;\n",
       "    }\n",
       "\n",
       "    .dataframe thead th {\n",
       "        text-align: right;\n",
       "    }\n",
       "</style>\n",
       "<table border=\"1\" class=\"dataframe\">\n",
       "  <thead>\n",
       "    <tr style=\"text-align: right;\">\n",
       "      <th></th>\n",
       "      <th>name</th>\n",
       "      <th>age</th>\n",
       "      <th>gender</th>\n",
       "      <th>phy</th>\n",
       "      <th>chem</th>\n",
       "    </tr>\n",
       "    <tr>\n",
       "      <th>math</th>\n",
       "      <th></th>\n",
       "      <th></th>\n",
       "      <th></th>\n",
       "      <th></th>\n",
       "      <th></th>\n",
       "    </tr>\n",
       "  </thead>\n",
       "  <tbody>\n",
       "    <tr>\n",
       "      <th>48</th>\n",
       "      <td>ajay</td>\n",
       "      <td>24</td>\n",
       "      <td>male</td>\n",
       "      <td>95</td>\n",
       "      <td>68</td>\n",
       "    </tr>\n",
       "    <tr>\n",
       "      <th>52</th>\n",
       "      <td>jayesh</td>\n",
       "      <td>22</td>\n",
       "      <td>male</td>\n",
       "      <td>89</td>\n",
       "      <td>62</td>\n",
       "    </tr>\n",
       "    <tr>\n",
       "      <th>68</th>\n",
       "      <td>hetansh</td>\n",
       "      <td>26</td>\n",
       "      <td>male</td>\n",
       "      <td>98</td>\n",
       "      <td>70</td>\n",
       "    </tr>\n",
       "    <tr>\n",
       "      <th>99</th>\n",
       "      <td>hrishva</td>\n",
       "      <td>20</td>\n",
       "      <td>female</td>\n",
       "      <td>98</td>\n",
       "      <td>97</td>\n",
       "    </tr>\n",
       "  </tbody>\n",
       "</table>\n",
       "</div>"
      ],
      "text/plain": [
       "         name  age  gender  phy  chem\n",
       "math                                 \n",
       "48       ajay   24    male   95    68\n",
       "52     jayesh   22    male   89    62\n",
       "68    hetansh   26    male   98    70\n",
       "99    hrishva   20  female   98    97"
      ]
     },
     "execution_count": 10,
     "metadata": {},
     "output_type": "execute_result"
    }
   ],
   "source": [
    "df.groupby('math').max()"
   ]
  },
  {
   "cell_type": "code",
   "execution_count": 11,
   "metadata": {},
   "outputs": [],
   "source": [
    "import pandas as pd\n",
    "import numpy as np\n",
    "import matplotlib.pyplot as plt\n",
    "%matplotlib inline"
   ]
  },
  {
   "cell_type": "code",
   "execution_count": 12,
   "metadata": {},
   "outputs": [],
   "source": [
    "ff={\n",
    "    'name':['jayesh','hetansh','hrishva','ajay'],\n",
    "    'age':[22,20,18,23]\n",
    "}"
   ]
  },
  {
   "cell_type": "code",
   "execution_count": 13,
   "metadata": {},
   "outputs": [],
   "source": [
    "ff=pd.DataFrame(ff)"
   ]
  },
  {
   "cell_type": "code",
   "execution_count": 14,
   "metadata": {},
   "outputs": [
    {
     "data": {
      "text/html": [
       "<div>\n",
       "<style scoped>\n",
       "    .dataframe tbody tr th:only-of-type {\n",
       "        vertical-align: middle;\n",
       "    }\n",
       "\n",
       "    .dataframe tbody tr th {\n",
       "        vertical-align: top;\n",
       "    }\n",
       "\n",
       "    .dataframe thead th {\n",
       "        text-align: right;\n",
       "    }\n",
       "</style>\n",
       "<table border=\"1\" class=\"dataframe\">\n",
       "  <thead>\n",
       "    <tr style=\"text-align: right;\">\n",
       "      <th></th>\n",
       "      <th>name</th>\n",
       "      <th>age</th>\n",
       "    </tr>\n",
       "  </thead>\n",
       "  <tbody>\n",
       "    <tr>\n",
       "      <th>0</th>\n",
       "      <td>jayesh</td>\n",
       "      <td>22</td>\n",
       "    </tr>\n",
       "    <tr>\n",
       "      <th>1</th>\n",
       "      <td>hetansh</td>\n",
       "      <td>20</td>\n",
       "    </tr>\n",
       "    <tr>\n",
       "      <th>2</th>\n",
       "      <td>hrishva</td>\n",
       "      <td>18</td>\n",
       "    </tr>\n",
       "    <tr>\n",
       "      <th>3</th>\n",
       "      <td>ajay</td>\n",
       "      <td>23</td>\n",
       "    </tr>\n",
       "  </tbody>\n",
       "</table>\n",
       "</div>"
      ],
      "text/plain": [
       "      name  age\n",
       "0   jayesh   22\n",
       "1  hetansh   20\n",
       "2  hrishva   18\n",
       "3     ajay   23"
      ]
     },
     "execution_count": 14,
     "metadata": {},
     "output_type": "execute_result"
    }
   ],
   "source": [
    "ff"
   ]
  },
  {
   "cell_type": "code",
   "execution_count": 15,
   "metadata": {},
   "outputs": [],
   "source": [
    "ff1={\n",
    "    'name':['sachin','sehwag','dhoni','kohli'],\n",
    "    'place':['mumbai','nazafgadh','ranchi','delhi']\n",
    "}"
   ]
  },
  {
   "cell_type": "code",
   "execution_count": 16,
   "metadata": {},
   "outputs": [],
   "source": [
    "ff1=pd.DataFrame(ff1)"
   ]
  },
  {
   "cell_type": "code",
   "execution_count": 17,
   "metadata": {},
   "outputs": [
    {
     "data": {
      "text/html": [
       "<div>\n",
       "<style scoped>\n",
       "    .dataframe tbody tr th:only-of-type {\n",
       "        vertical-align: middle;\n",
       "    }\n",
       "\n",
       "    .dataframe tbody tr th {\n",
       "        vertical-align: top;\n",
       "    }\n",
       "\n",
       "    .dataframe thead th {\n",
       "        text-align: right;\n",
       "    }\n",
       "</style>\n",
       "<table border=\"1\" class=\"dataframe\">\n",
       "  <thead>\n",
       "    <tr style=\"text-align: right;\">\n",
       "      <th></th>\n",
       "      <th>name</th>\n",
       "      <th>place</th>\n",
       "    </tr>\n",
       "  </thead>\n",
       "  <tbody>\n",
       "    <tr>\n",
       "      <th>0</th>\n",
       "      <td>sachin</td>\n",
       "      <td>mumbai</td>\n",
       "    </tr>\n",
       "    <tr>\n",
       "      <th>1</th>\n",
       "      <td>sehwag</td>\n",
       "      <td>nazafgadh</td>\n",
       "    </tr>\n",
       "    <tr>\n",
       "      <th>2</th>\n",
       "      <td>dhoni</td>\n",
       "      <td>ranchi</td>\n",
       "    </tr>\n",
       "    <tr>\n",
       "      <th>3</th>\n",
       "      <td>kohli</td>\n",
       "      <td>delhi</td>\n",
       "    </tr>\n",
       "  </tbody>\n",
       "</table>\n",
       "</div>"
      ],
      "text/plain": [
       "     name      place\n",
       "0  sachin     mumbai\n",
       "1  sehwag  nazafgadh\n",
       "2   dhoni     ranchi\n",
       "3   kohli      delhi"
      ]
     },
     "execution_count": 17,
     "metadata": {},
     "output_type": "execute_result"
    }
   ],
   "source": [
    "ff1"
   ]
  },
  {
   "cell_type": "code",
   "execution_count": 18,
   "metadata": {},
   "outputs": [
    {
     "data": {
      "text/plain": [
       "0  name     jayesh\n",
       "   age          22\n",
       "1  name    hetansh\n",
       "   age          20\n",
       "2  name    hrishva\n",
       "   age          18\n",
       "3  name       ajay\n",
       "   age          23\n",
       "dtype: object"
      ]
     },
     "execution_count": 18,
     "metadata": {},
     "output_type": "execute_result"
    }
   ],
   "source": [
    "ff.stack()"
   ]
  },
  {
   "cell_type": "code",
   "execution_count": 19,
   "metadata": {},
   "outputs": [
    {
     "data": {
      "image/png": "[encoded data removed]",
      "text/plain": [
       "<Figure size 360x360 with 1 Axes>"
      ]
     },
     "metadata": {},
     "output_type": "display_data"
    }
   ],
   "source": [
    "tf=pd.DataFrame({'marks':[98,58,77,35]},index=['jayesh','hetansh','hrishva','ajay'])\n",
    "plot=tf.plot.pie(y='marks',figsize=(5,5),autopct=\"%.2f%%\")"
   ]
  },
  {
   "cell_type": "code",
   "execution_count": 20,
   "metadata": {},
   "outputs": [],
   "source": [
    "import pandas as pd\n",
    "import numpy as np\n",
    "import matplotlib.pyplot as plt\n",
    "%matplotlib inline"
   ]
  },
  {
   "cell_type": "code",
   "execution_count": 21,
   "metadata": {},
   "outputs": [
    {
     "name": "stderr",
     "output_type": "stream",
     "text": [
      "C:\\ProgramData\\Anaconda3\\lib\\site-packages\\matplotlib\\cbook\\deprecation.py:107: MatplotlibDeprecationWarning: Adding an axes using the same arguments as a previous axes currently reuses the earlier instance.  In a future version, a new instance will always be created and returned.  Meanwhile, this warning can be suppressed, and the future behavior ensured, by passing a unique label to each axes instance.\n",
      "  warnings.warn(message, mplDeprecation, stacklevel=1)\n"
     ]
    },
    {
     "data": {
      "image/png": "[encoded data removed]",
      "text/plain": [
       "<Figure size 432x288 with 1 Axes>"
      ]
     },
     "metadata": {},
     "output_type": "display_data"
    }
   ],
   "source": [
    "x=np.arange(1,5)\n",
    "y=np.arange(6,10)\n",
    "plt.style.use('ggplot')\n",
    "plt.plot(x,y,'b^')\n",
    "plt.plot(x*2)\n",
    "plt.plot(y**3)\n",
    "plt.xlabel('x-axis')\n",
    "plt.ylabel('y-axis')\n",
    "plt.subplot()\n",
    "plt.show()"
   ]
  },
  {
   "cell_type": "code",
   "execution_count": 22,
   "metadata": {},
   "outputs": [],
   "source": [
    "x=np.linspace(-1,1,100)"
   ]
  },
  {
   "cell_type": "code",
   "execution_count": 23,
   "metadata": {},
   "outputs": [
    {
     "data": {
      "image/png": "[encoded data removed]",
      "text/plain": [
       "<Figure size 720x360 with 1 Axes>"
      ]
     },
     "metadata": {},
     "output_type": "display_data"
    }
   ],
   "source": [
    "plt.figure(figsize=(10,5))\n",
    "plt.plot(x,x,'r')\n",
    "plt.plot(x,x**2,'y')\n",
    "plt.plot(x,x**3,'b')\n",
    "plt.plot(x,x**4,'g')\n",
    "plt.show()"
   ]
  },
  {
   "cell_type": "code",
   "execution_count": 30,
   "metadata": {},
   "outputs": [],
   "source": [
    "data=pd.read_csv('C:/Users/chinki/Desktop/h1b.csv')"
   ]
  },
  {
   "cell_type": "code",
   "execution_count": 31,
   "metadata": {
    "scrolled": true
   },
   "outputs": [
    {
     "data": {
      "text/html": [
       "<div>\n",
       "<style scoped>\n",
       "    .dataframe tbody tr th:only-of-type {\n",
       "        vertical-align: middle;\n",
       "    }\n",
       "\n",
       "    .dataframe tbody tr th {\n",
       "        vertical-align: top;\n",
       "    }\n",
       "\n",
       "    .dataframe thead th {\n",
       "        text-align: right;\n",
       "    }\n",
       "</style>\n",
       "<table border=\"1\" class=\"dataframe\">\n",
       "  <thead>\n",
       "    <tr style=\"text-align: right;\">\n",
       "      <th></th>\n",
       "      <th>Unnamed: 0</th>\n",
       "      <th>CASE_STATUS</th>\n",
       "      <th>EMPLOYER_NAME</th>\n",
       "      <th>SOC_NAME</th>\n",
       "      <th>JOB_TITLE</th>\n",
       "      <th>FULL_TIME_POSITION</th>\n",
       "      <th>PREVAILING_WAGE</th>\n",
       "      <th>YEAR</th>\n",
       "      <th>WORKSITE</th>\n",
       "      <th>lon</th>\n",
       "      <th>lat</th>\n",
       "    </tr>\n",
       "  </thead>\n",
       "  <tbody>\n",
       "    <tr>\n",
       "      <th>0</th>\n",
       "      <td>1</td>\n",
       "      <td>CERTIFIED-WITHDRAWN</td>\n",
       "      <td>UNIVERSITY OF MICHIGAN</td>\n",
       "      <td>BIOCHEMISTS AND BIOPHYSICISTS</td>\n",
       "      <td>POSTDOCTORAL RESEARCH FELLOW</td>\n",
       "      <td>N</td>\n",
       "      <td>36067.0</td>\n",
       "      <td>2016.0</td>\n",
       "      <td>ANN ARBOR, MICHIGAN</td>\n",
       "      <td>-83.743038</td>\n",
       "      <td>42.280826</td>\n",
       "    </tr>\n",
       "    <tr>\n",
       "      <th>1</th>\n",
       "      <td>2</td>\n",
       "      <td>CERTIFIED-WITHDRAWN</td>\n",
       "      <td>GOODMAN NETWORKS, INC.</td>\n",
       "      <td>CHIEF EXECUTIVES</td>\n",
       "      <td>CHIEF OPERATING OFFICER</td>\n",
       "      <td>Y</td>\n",
       "      <td>242674.0</td>\n",
       "      <td>2016.0</td>\n",
       "      <td>PLANO, TEXAS</td>\n",
       "      <td>-96.698886</td>\n",
       "      <td>33.019843</td>\n",
       "    </tr>\n",
       "    <tr>\n",
       "      <th>2</th>\n",
       "      <td>3</td>\n",
       "      <td>CERTIFIED-WITHDRAWN</td>\n",
       "      <td>PORTS AMERICA GROUP, INC.</td>\n",
       "      <td>CHIEF EXECUTIVES</td>\n",
       "      <td>CHIEF PROCESS OFFICER</td>\n",
       "      <td>Y</td>\n",
       "      <td>193066.0</td>\n",
       "      <td>2016.0</td>\n",
       "      <td>JERSEY CITY, NEW JERSEY</td>\n",
       "      <td>-74.077642</td>\n",
       "      <td>40.728158</td>\n",
       "    </tr>\n",
       "    <tr>\n",
       "      <th>3</th>\n",
       "      <td>4</td>\n",
       "      <td>CERTIFIED-WITHDRAWN</td>\n",
       "      <td>GATES CORPORATION, A WHOLLY-OWNED SUBSIDIARY O...</td>\n",
       "      <td>CHIEF EXECUTIVES</td>\n",
       "      <td>REGIONAL PRESIDEN, AMERICAS</td>\n",
       "      <td>Y</td>\n",
       "      <td>220314.0</td>\n",
       "      <td>2016.0</td>\n",
       "      <td>DENVER, COLORADO</td>\n",
       "      <td>-104.990251</td>\n",
       "      <td>39.739236</td>\n",
       "    </tr>\n",
       "    <tr>\n",
       "      <th>4</th>\n",
       "      <td>5</td>\n",
       "      <td>WITHDRAWN</td>\n",
       "      <td>PEABODY INVESTMENTS CORP.</td>\n",
       "      <td>CHIEF EXECUTIVES</td>\n",
       "      <td>PRESIDENT MONGOLIA AND INDIA</td>\n",
       "      <td>Y</td>\n",
       "      <td>157518.4</td>\n",
       "      <td>2016.0</td>\n",
       "      <td>ST. LOUIS, MISSOURI</td>\n",
       "      <td>-90.199404</td>\n",
       "      <td>38.627003</td>\n",
       "    </tr>\n",
       "  </tbody>\n",
       "</table>\n",
       "</div>"
      ],
      "text/plain": [
       "   Unnamed: 0          CASE_STATUS  \\\n",
       "0           1  CERTIFIED-WITHDRAWN   \n",
       "1           2  CERTIFIED-WITHDRAWN   \n",
       "2           3  CERTIFIED-WITHDRAWN   \n",
       "3           4  CERTIFIED-WITHDRAWN   \n",
       "4           5            WITHDRAWN   \n",
       "\n",
       "                                       EMPLOYER_NAME  \\\n",
       "0                             UNIVERSITY OF MICHIGAN   \n",
       "1                             GOODMAN NETWORKS, INC.   \n",
       "2                          PORTS AMERICA GROUP, INC.   \n",
       "3  GATES CORPORATION, A WHOLLY-OWNED SUBSIDIARY O...   \n",
       "4                          PEABODY INVESTMENTS CORP.   \n",
       "\n",
       "                        SOC_NAME                     JOB_TITLE  \\\n",
       "0  BIOCHEMISTS AND BIOPHYSICISTS  POSTDOCTORAL RESEARCH FELLOW   \n",
       "1               CHIEF EXECUTIVES       CHIEF OPERATING OFFICER   \n",
       "2               CHIEF EXECUTIVES         CHIEF PROCESS OFFICER   \n",
       "3               CHIEF EXECUTIVES   REGIONAL PRESIDEN, AMERICAS   \n",
       "4               CHIEF EXECUTIVES  PRESIDENT MONGOLIA AND INDIA   \n",
       "\n",
       "  FULL_TIME_POSITION  PREVAILING_WAGE    YEAR                 WORKSITE  \\\n",
       "0                  N          36067.0  2016.0      ANN ARBOR, MICHIGAN   \n",
       "1                  Y         242674.0  2016.0             PLANO, TEXAS   \n",
       "2                  Y         193066.0  2016.0  JERSEY CITY, NEW JERSEY   \n",
       "3                  Y         220314.0  2016.0         DENVER, COLORADO   \n",
       "4                  Y         157518.4  2016.0      ST. LOUIS, MISSOURI   \n",
       "\n",
       "          lon        lat  \n",
       "0  -83.743038  42.280826  \n",
       "1  -96.698886  33.019843  \n",
       "2  -74.077642  40.728158  \n",
       "3 -104.990251  39.739236  \n",
       "4  -90.199404  38.627003  "
      ]
     },
     "execution_count": 31,
     "metadata": {},
     "output_type": "execute_result"
    }
   ],
   "source": [
    "data.head()"
   ]
  },
  {
   "cell_type": "code",
   "execution_count": 32,
   "metadata": {},
   "outputs": [
    {
     "data": {
      "text/plain": [
       "CERTIFIED                                             2615623\n",
       "CERTIFIED-WITHDRAWN                                    202659\n",
       "DENIED                                                  94346\n",
       "WITHDRAWN                                               89799\n",
       "PENDING QUALITY AND COMPLIANCE REVIEW - UNASSIGNED         15\n",
       "REJECTED                                                    2\n",
       "INVALIDATED                                                 1\n",
       "Name: CASE_STATUS, dtype: int64"
      ]
     },
     "execution_count": 32,
     "metadata": {},
     "output_type": "execute_result"
    }
   ],
   "source": [
    "data.CASE_STATUS.value_counts()"
   ]
  },
  {
   "cell_type": "code",
   "execution_count": 34,
   "metadata": {
    "scrolled": true
   },
   "outputs": [
    {
     "data": {
      "text/html": [
       "<div>\n",
       "<style scoped>\n",
       "    .dataframe tbody tr th:only-of-type {\n",
       "        vertical-align: middle;\n",
       "    }\n",
       "\n",
       "    .dataframe tbody tr th {\n",
       "        vertical-align: top;\n",
       "    }\n",
       "\n",
       "    .dataframe thead th {\n",
       "        text-align: right;\n",
       "    }\n",
       "</style>\n",
       "<table border=\"1\" class=\"dataframe\">\n",
       "  <thead>\n",
       "    <tr style=\"text-align: right;\">\n",
       "      <th></th>\n",
       "      <th>Unnamed: 0</th>\n",
       "      <th>CASE_STATUS</th>\n",
       "      <th>EMPLOYER_NAME</th>\n",
       "      <th>SOC_NAME</th>\n",
       "      <th>JOB_TITLE</th>\n",
       "      <th>FULL_TIME_POSITION</th>\n",
       "      <th>PREVAILING_WAGE</th>\n",
       "      <th>YEAR</th>\n",
       "      <th>WORKSITE</th>\n",
       "      <th>lon</th>\n",
       "      <th>lat</th>\n",
       "    </tr>\n",
       "  </thead>\n",
       "  <tbody>\n",
       "    <tr>\n",
       "      <th>2163248</th>\n",
       "      <td>2163249</td>\n",
       "      <td>DENIED</td>\n",
       "      <td>GUARDIAN HEALTHCARE PROVIDERS, INC.</td>\n",
       "      <td>Physical Therapists</td>\n",
       "      <td>PHYSICAL THERAPISTS</td>\n",
       "      <td>Y</td>\n",
       "      <td>6.997607e+09</td>\n",
       "      <td>2013.0</td>\n",
       "      <td>PEKIN, ILLINOIS</td>\n",
       "      <td>-89.640658</td>\n",
       "      <td>40.567539</td>\n",
       "    </tr>\n",
       "    <tr>\n",
       "      <th>2797982</th>\n",
       "      <td>2797983</td>\n",
       "      <td>DENIED</td>\n",
       "      <td>SCIVANTAGE, INC.</td>\n",
       "      <td>Computer Programmers</td>\n",
       "      <td>SOFTWARE DEVELOPER</td>\n",
       "      <td>Y</td>\n",
       "      <td>1.007814e+09</td>\n",
       "      <td>2011.0</td>\n",
       "      <td>JERSEY CITY, NEW JERSEY</td>\n",
       "      <td>-74.077642</td>\n",
       "      <td>40.728158</td>\n",
       "    </tr>\n",
       "    <tr>\n",
       "      <th>1673867</th>\n",
       "      <td>1673868</td>\n",
       "      <td>DENIED</td>\n",
       "      <td>DISCOVER PRODUCTS INC.</td>\n",
       "      <td>Statisticians</td>\n",
       "      <td>PROJECT MANAGER</td>\n",
       "      <td>Y</td>\n",
       "      <td>8.201323e+08</td>\n",
       "      <td>2014.0</td>\n",
       "      <td>RIVERWOODS, ILLINOIS</td>\n",
       "      <td>-87.897014</td>\n",
       "      <td>42.167525</td>\n",
       "    </tr>\n",
       "    <tr>\n",
       "      <th>1819718</th>\n",
       "      <td>1819719</td>\n",
       "      <td>DENIED</td>\n",
       "      <td>IDEXCEL, INC.</td>\n",
       "      <td>Software Developers, Applications</td>\n",
       "      <td>.NET DEVELOPER</td>\n",
       "      <td>Y</td>\n",
       "      <td>7.099999e+08</td>\n",
       "      <td>2013.0</td>\n",
       "      <td>COLUMBUS, OHIO</td>\n",
       "      <td>-82.998794</td>\n",
       "      <td>39.961176</td>\n",
       "    </tr>\n",
       "    <tr>\n",
       "      <th>2775906</th>\n",
       "      <td>2775907</td>\n",
       "      <td>DENIED</td>\n",
       "      <td>COMMONHEALTH ACTION</td>\n",
       "      <td>Medical and Health Services Managers</td>\n",
       "      <td>PROGRAM MANAGER (POSITIVE PATHWAYS)</td>\n",
       "      <td>Y</td>\n",
       "      <td>6.579000e+08</td>\n",
       "      <td>2011.0</td>\n",
       "      <td>WASHINGTON, NA</td>\n",
       "      <td>NaN</td>\n",
       "      <td>NaN</td>\n",
       "    </tr>\n",
       "    <tr>\n",
       "      <th>1547574</th>\n",
       "      <td>1547575</td>\n",
       "      <td>DENIED</td>\n",
       "      <td>ARKRIT LLC</td>\n",
       "      <td>Computer Systems Analysts</td>\n",
       "      <td>PROGRAMMER/ANALYST</td>\n",
       "      <td>Y</td>\n",
       "      <td>6.169317e+08</td>\n",
       "      <td>2014.0</td>\n",
       "      <td>SAN JOSE, CALIFORNIA</td>\n",
       "      <td>-121.886329</td>\n",
       "      <td>37.338208</td>\n",
       "    </tr>\n",
       "    <tr>\n",
       "      <th>1668384</th>\n",
       "      <td>1668385</td>\n",
       "      <td>DENIED</td>\n",
       "      <td>HOWARD HUGHES MEDICAL INSTITUTE</td>\n",
       "      <td>Life Scientists, All Other</td>\n",
       "      <td>RESEARCH ASSOCIATE</td>\n",
       "      <td>Y</td>\n",
       "      <td>4.134726e+08</td>\n",
       "      <td>2014.0</td>\n",
       "      <td>ASHBURN, VIRGINIA</td>\n",
       "      <td>-77.487442</td>\n",
       "      <td>39.043757</td>\n",
       "    </tr>\n",
       "    <tr>\n",
       "      <th>1805875</th>\n",
       "      <td>1805876</td>\n",
       "      <td>DENIED</td>\n",
       "      <td>GOOGLE INC.</td>\n",
       "      <td>Architectural and Engineering Managers</td>\n",
       "      <td>MANAGER, SOFTWARE ENGINEERING</td>\n",
       "      <td>Y</td>\n",
       "      <td>4.103154e+08</td>\n",
       "      <td>2013.0</td>\n",
       "      <td>MOUNTAIN VIEW, CALIFORNIA</td>\n",
       "      <td>-122.083851</td>\n",
       "      <td>37.386052</td>\n",
       "    </tr>\n",
       "    <tr>\n",
       "      <th>2796071</th>\n",
       "      <td>2796072</td>\n",
       "      <td>WITHDRAWN</td>\n",
       "      <td>ICAP CORPORATES LLC</td>\n",
       "      <td>Financial Managers</td>\n",
       "      <td>MANAGING DIRECTOR, EQUITY DERIVATIVES</td>\n",
       "      <td>Y</td>\n",
       "      <td>4.066379e+08</td>\n",
       "      <td>2011.0</td>\n",
       "      <td>JERSEY CITY, NEW JERSEY</td>\n",
       "      <td>-74.077642</td>\n",
       "      <td>40.728158</td>\n",
       "    </tr>\n",
       "    <tr>\n",
       "      <th>1698325</th>\n",
       "      <td>1698326</td>\n",
       "      <td>DENIED</td>\n",
       "      <td>SAN LUIS VALLEY HEALTH</td>\n",
       "      <td>Internists, General</td>\n",
       "      <td>INTERNIST</td>\n",
       "      <td>Y</td>\n",
       "      <td>3.893760e+08</td>\n",
       "      <td>2014.0</td>\n",
       "      <td>ALAMOSA, COLORADO</td>\n",
       "      <td>NaN</td>\n",
       "      <td>NaN</td>\n",
       "    </tr>\n",
       "  </tbody>\n",
       "</table>\n",
       "</div>"
      ],
      "text/plain": [
       "         Unnamed: 0 CASE_STATUS                        EMPLOYER_NAME  \\\n",
       "2163248     2163249      DENIED  GUARDIAN HEALTHCARE PROVIDERS, INC.   \n",
       "2797982     2797983      DENIED                     SCIVANTAGE, INC.   \n",
       "1673867     1673868      DENIED               DISCOVER PRODUCTS INC.   \n",
       "1819718     1819719      DENIED                        IDEXCEL, INC.   \n",
       "2775906     2775907      DENIED                  COMMONHEALTH ACTION   \n",
       "1547574     1547575      DENIED                           ARKRIT LLC   \n",
       "1668384     1668385      DENIED      HOWARD HUGHES MEDICAL INSTITUTE   \n",
       "1805875     1805876      DENIED                          GOOGLE INC.   \n",
       "2796071     2796072   WITHDRAWN                  ICAP CORPORATES LLC   \n",
       "1698325     1698326      DENIED               SAN LUIS VALLEY HEALTH   \n",
       "\n",
       "                                       SOC_NAME  \\\n",
       "2163248                     Physical Therapists   \n",
       "2797982                    Computer Programmers   \n",
       "1673867                           Statisticians   \n",
       "1819718       Software Developers, Applications   \n",
       "2775906    Medical and Health Services Managers   \n",
       "1547574               Computer Systems Analysts   \n",
       "1668384              Life Scientists, All Other   \n",
       "1805875  Architectural and Engineering Managers   \n",
       "2796071                      Financial Managers   \n",
       "1698325                     Internists, General   \n",
       "\n",
       "                                     JOB_TITLE FULL_TIME_POSITION  \\\n",
       "2163248                    PHYSICAL THERAPISTS                  Y   \n",
       "2797982                     SOFTWARE DEVELOPER                  Y   \n",
       "1673867                        PROJECT MANAGER                  Y   \n",
       "1819718                         .NET DEVELOPER                  Y   \n",
       "2775906    PROGRAM MANAGER (POSITIVE PATHWAYS)                  Y   \n",
       "1547574                     PROGRAMMER/ANALYST                  Y   \n",
       "1668384                     RESEARCH ASSOCIATE                  Y   \n",
       "1805875          MANAGER, SOFTWARE ENGINEERING                  Y   \n",
       "2796071  MANAGING DIRECTOR, EQUITY DERIVATIVES                  Y   \n",
       "1698325                              INTERNIST                  Y   \n",
       "\n",
       "         PREVAILING_WAGE    YEAR                   WORKSITE         lon  \\\n",
       "2163248     6.997607e+09  2013.0            PEKIN, ILLINOIS  -89.640658   \n",
       "2797982     1.007814e+09  2011.0    JERSEY CITY, NEW JERSEY  -74.077642   \n",
       "1673867     8.201323e+08  2014.0       RIVERWOODS, ILLINOIS  -87.897014   \n",
       "1819718     7.099999e+08  2013.0             COLUMBUS, OHIO  -82.998794   \n",
       "2775906     6.579000e+08  2011.0             WASHINGTON, NA         NaN   \n",
       "1547574     6.169317e+08  2014.0       SAN JOSE, CALIFORNIA -121.886329   \n",
       "1668384     4.134726e+08  2014.0          ASHBURN, VIRGINIA  -77.487442   \n",
       "1805875     4.103154e+08  2013.0  MOUNTAIN VIEW, CALIFORNIA -122.083851   \n",
       "2796071     4.066379e+08  2011.0    JERSEY CITY, NEW JERSEY  -74.077642   \n",
       "1698325     3.893760e+08  2014.0          ALAMOSA, COLORADO         NaN   \n",
       "\n",
       "               lat  \n",
       "2163248  40.567539  \n",
       "2797982  40.728158  \n",
       "1673867  42.167525  \n",
       "1819718  39.961176  \n",
       "2775906        NaN  \n",
       "1547574  37.338208  \n",
       "1668384  39.043757  \n",
       "1805875  37.386052  \n",
       "2796071  40.728158  \n",
       "1698325        NaN  "
      ]
     },
     "execution_count": 34,
     "metadata": {},
     "output_type": "execute_result"
    }
   ],
   "source": [
    "data.nlargest(10,['PREVAILING_WAGE'])"
   ]
  },
  {
   "cell_type": "code",
   "execution_count": 35,
   "metadata": {},
   "outputs": [],
   "source": [
    "jt=data.JOB_TITLE.value_counts()[:10]"
   ]
  },
  {
   "cell_type": "code",
   "execution_count": 36,
   "metadata": {},
   "outputs": [
    {
     "data": {
      "image/png": "[encoded data removed]",
      "text/plain": [
       "<Figure size 576x576 with 1 Axes>"
      ]
     },
     "metadata": {},
     "output_type": "display_data"
    }
   ],
   "source": [
    "plt.figure(figsize=(8,8),facecolor='yellow')\n",
    "jt.plot(kind='pie',title='top 10 job titles',autopct='%.2f%%',explode=(0.2,0,0,0,0,0,0,0,0,0),shadow=True)\n",
    "plt.show()"
   ]
  },
  {
   "cell_type": "code",
   "execution_count": 38,
   "metadata": {},
   "outputs": [],
   "source": [
    "ftp=data.FULL_TIME_POSITION.value_counts()"
   ]
  },
  {
   "cell_type": "code",
   "execution_count": 39,
   "metadata": {},
   "outputs": [
    {
     "data": {
      "image/png": "[encoded data removed]",
      "text/plain": [
       "<Figure size 360x360 with 1 Axes>"
      ]
     },
     "metadata": {},
     "output_type": "display_data"
    }
   ],
   "source": [
    "plt.figure(figsize=(5,5),facecolor='grey')\n",
    "ftp.plot(kind='pie',autopct='%.2f%%',title='full time position',fontsize=15,explode=(0.2,0),shadow=True)\n",
    "plt.show()"
   ]
  },
  {
   "cell_type": "code",
   "execution_count": 60,
   "metadata": {},
   "outputs": [],
   "source": [
    "jobs=['DATA SCIENTIST','DATA ANALYST','DATA ENGINEER','BUSINESS ANALYST']\n",
    "total=[]\n",
    "\n",
    "for var in jobs:\n",
    "    v=data[data.JOB_TITLE==var]['JOB_TITLE'].count()\n",
    "    total.append(v)"
   ]
  },
  {
   "cell_type": "code",
   "execution_count": 73,
   "metadata": {},
   "outputs": [
    {
     "data": {
      "image/png": "[encoded data removed]",
      "text/plain": [
       "<Figure size 432x288 with 1 Axes>"
      ]
     },
     "metadata": {},
     "output_type": "display_data"
    }
   ],
   "source": [
    "plt.figure(figsize=(6,4))\n",
    "plt.bar(x=jobs,height=total[:])\n",
    "plt.title('jobs')\n",
    "plt.show()"
   ]
  },
  {
   "cell_type": "code",
   "execution_count": null,
   "metadata": {},
   "outputs": [],
   "source": []
  }
 ],
 "metadata": {
  "kernelspec": {
   "display_name": "Python 3",
   "language": "python",
   "name": "python3"
  },
  "language_info": {
   "codemirror_mode": {
    "name": "ipython",
    "version": 3
   },
   "file_extension": ".py",
   "mimetype": "text/x-python",
   "name": "python",
   "nbconvert_exporter": "python",
   "pygments_lexer": "ipython3",
   "version": "3.7.0"
  }
 },
 "nbformat": 4,
 "nbformat_minor": 2
}
