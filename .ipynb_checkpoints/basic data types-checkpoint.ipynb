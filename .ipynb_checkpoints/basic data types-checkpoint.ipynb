{
 "cells": [
  {
   "cell_type": "code",
   "execution_count": 3,
   "metadata": {},
   "outputs": [
    {
     "name": "stdout",
     "output_type": "stream",
     "text": [
      "enter foo / bar :       B        A       R       \n",
      "foo\n"
     ]
    }
   ],
   "source": [
    "inp = input('enter foo / bar : ').lower().strip()\n",
    "\n",
    "n = inp.split()\n",
    "\n",
    "inp  = ''.join(n)\n",
    "\n",
    "if inp == 'foo':\n",
    "    print('bar')\n",
    "elif inp == 'bar':\n",
    "    print('foo')\n",
    "else:\n",
    "    print('foo|bar')"
   ]
  },
  {
   "cell_type": "code",
   "execution_count": 9,
   "metadata": {},
   "outputs": [
    {
     "data": {
      "text/plain": [
       "['hello', 'this', 'is', 'jayesh', 'ahir', 'this', 'is', 'python', 'world']"
      ]
     },
     "execution_count": 9,
     "metadata": {},
     "output_type": "execute_result"
    }
   ],
   "source": [
    "a = \"hello this is jayesh ahir this is python world\"\n",
    "a.split()"
   ]
  },
  {
   "cell_type": "code",
   "execution_count": 1,
   "metadata": {},
   "outputs": [
    {
     "data": {
      "text/plain": [
       "'wello world'"
      ]
     },
     "execution_count": 1,
     "metadata": {},
     "output_type": "execute_result"
    }
   ],
   "source": [
    "a = \"hello world\"\n",
    "a.replace(\"h\",\"w\")"
   ]
  },
  {
   "cell_type": "code",
   "execution_count": 3,
   "metadata": {},
   "outputs": [
    {
     "name": "stdout",
     "output_type": "stream",
     "text": [
      "enter a number:8\n",
      "this is even number\n"
     ]
    }
   ],
   "source": [
    "num=int(input(\"enter a number:\"))\n",
    "if num%2:\n",
    "    print(\"this  is odd number\")\n",
    "else:\n",
    "    print(\"this is even number\")"
   ]
  },
  {
   "cell_type": "code",
   "execution_count": null,
   "metadata": {},
   "outputs": [],
   "source": []
  },
  {
   "cell_type": "markdown",
   "metadata": {},
   "source": [
    "print(\"hello\")"
   ]
  },
  {
   "cell_type": "code",
   "execution_count": 1,
   "metadata": {},
   "outputs": [
    {
     "name": "stdout",
     "output_type": "stream",
     "text": [
      "enter number:10\n",
      "True\n"
     ]
    }
   ],
   "source": [
    "num=int(input(\"enter number:\"))\n",
    "if num%2==0:\n",
    "    print(True)\n",
    "else:\n",
    "    print(False)"
   ]
  },
  {
   "cell_type": "code",
   "execution_count": 12,
   "metadata": {},
   "outputs": [
    {
     "name": "stdout",
     "output_type": "stream",
     "text": [
      "enter foo or bar:f o o\n",
      "bar\n"
     ]
    }
   ],
   "source": [
    "inp=input(\"enter foo or bar:\").strip().lower().replace(' ','')\n",
    "if inp==\"foo\":\n",
    "    print(\"bar\")\n",
    "elif inp==\"bar\":\n",
    "    print(\"foo\")\n",
    "else:\n",
    "    print(\"foo|bar\")"
   ]
  },
  {
   "cell_type": "code",
   "execution_count": 17,
   "metadata": {},
   "outputs": [
    {
     "name": "stdout",
     "output_type": "stream",
     "text": [
      "enter value of a:14\n",
      "enter value of b:15\n",
      "enter value of c:16\n",
      "c is largest\n"
     ]
    }
   ],
   "source": [
    "a=int(input(\"enter value of a:\"))\n",
    "b=int(input(\"enter value of b:\"))\n",
    "c=int(input(\"enter value of c:\"))\n",
    "\n",
    "\n",
    "if(a>b) and (a>c):\n",
    "   print(\"a is largest\")\n",
    "elif(b>a) and (b>c):\n",
    "   print(\"b is largest\")\n",
    "else:\n",
    "   print(\"c is largest\")\n"
   ]
  },
  {
   "cell_type": "code",
   "execution_count": null,
   "metadata": {},
   "outputs": [],
   "source": [
    "a=int(input(\"enter first number:\"))\n",
    "b=int(input(\"enter second number:\"))\n",
    "c=input(\"enter operator\")\n",
    "\n",
    "if c == '+':\n",
    "    print(a+b)\n",
    "\n",
    "elif c == '-':\n",
    "    print(a-b)\n",
    "\n",
    "elif  c== '*':\n",
    "    print(a*b)\n",
    "\n",
    "elif c == '/':\n",
    "    print(a/b)\n",
    "\n",
    "else:\n",
    "    print('invalid operator')"
   ]
  },
  {
   "cell_type": "code",
   "execution_count": 3,
   "metadata": {},
   "outputs": [
    {
     "name": "stdout",
     "output_type": "stream",
     "text": [
      "enter foo/bar:bar\n",
      "foo\n"
     ]
    }
   ],
   "source": [
    "a=input(\"enter foo/bar:\").lower()\n",
    "\n",
    "\n",
    "if a ==\"foo\":\n",
    "    print(\"bar\")\n",
    "elif a==\"bar\":\n",
    "    print(\"foo\")\n",
    "else:\n",
    "    print(\"foo|bar\")\n"
   ]
  },
  {
   "cell_type": "code",
   "execution_count": 7,
   "metadata": {},
   "outputs": [
    {
     "name": "stdout",
     "output_type": "stream",
     "text": [
      "enter a number :6\n",
      "it is saturday\n"
     ]
    }
   ],
   "source": [
    "mylist=['sunday','monday','tuesday','wednesday','thursday','friday','saturday']\n",
    "inp=int(input(\"enter a number :\"))\n",
    "if inp==0:\n",
    "    print(\"it is sunday\")\n",
    "elif inp==1:\n",
    "    print(\"it is monday\")\n",
    "elif inp==2:\n",
    "    print(\"it is tuesday\")\n",
    "elif inp==3:\n",
    "    print(\"it is wednesday\")\n",
    "elif inp==4:\n",
    "    print(\"it is thursday\")\n",
    "elif inp==5:\n",
    "    print(\"it is friday\")\n",
    "elif inp==6:\n",
    "    print(\"it is saturday\")\n",
    "else:\n",
    "    print(\"invalid input\")"
   ]
  },
  {
   "cell_type": "code",
   "execution_count": 9,
   "metadata": {},
   "outputs": [
    {
     "name": "stdout",
     "output_type": "stream",
     "text": [
      "enter your age:20\n",
      "please select your sector:\n",
      "1.government\n",
      "2.private\n",
      "2\n",
      "you have more chances\n"
     ]
    }
   ],
   "source": [
    "num=int(input(\"enter your age:\"))\n",
    "\n",
    "if num>=18:\n",
    "    print(\"please select your sector:\")\n",
    "    sector=(input(\"1.government\\n2.private\\n\"))\n",
    "    \n",
    "    if sector == \"1\":\n",
    "        print(\"you have less chances\")\n",
    "    elif sector == \"2\":\n",
    "        print(\"you have more chances\")\n",
    "    else:\n",
    "        print(\"invalid input\")\n",
    "        \n",
    "elif num<18:\n",
    "    print(\"you are not eligible for loan\")\n",
    "else:\n",
    "    print(\"invalid input\")\n",
    "    "
   ]
  },
  {
   "cell_type": "code",
   "execution_count": null,
   "metadata": {},
   "outputs": [],
   "source": []
  },
  {
   "cell_type": "code",
   "execution_count": 3,
   "metadata": {},
   "outputs": [
    {
     "name": "stdout",
     "output_type": "stream",
     "text": [
      "[-1, -1, -1]\n",
      "[-1, -1, -1]\n"
     ]
    }
   ],
   "source": [
    "x=[1,2,3]\n",
    "y=x\n",
    "x[: ]=[-1]*3\n",
    "print(x)\n",
    "print(y)"
   ]
  },
  {
   "cell_type": "code",
   "execution_count": 37,
   "metadata": {},
   "outputs": [
    {
     "name": "stdout",
     "output_type": "stream",
     "text": [
      "enter units:240\n",
      "your result is 336.0\n"
     ]
    }
   ],
   "source": [
    "unit=int(input('enter units:'))\n",
    "x=unit/5\n",
    "if unit<=50:\n",
    "    a=unit*0.5\n",
    "    print('your result is ',x+a)\n",
    "elif unit>50 and unit<150:\n",
    "    b=unit*0.75\n",
    "    print('your result is ',x+b)\n",
    "elif unit>150 and unit<250:\n",
    "    c=unit*1.20\n",
    "    print('your result is',x+c)\n",
    "elif unit>250 and unit<350:\n",
    "    d=unit*1.50\n",
    "    print('your result is',x+d)\n",
    "else:\n",
    "    print('invalid input')\n",
    "\n"
   ]
  },
  {
   "cell_type": "code",
   "execution_count": 1,
   "metadata": {},
   "outputs": [
    {
     "name": "stdout",
     "output_type": "stream",
     "text": [
      "hello world1\n",
      "hello world2\n",
      "hello world3\n",
      "hello world4\n",
      "hello world5\n",
      "shall i run or not\n"
     ]
    }
   ],
   "source": [
    "c=1\n",
    "while c<=5:\n",
    "    print(f'hello world{c}')\n",
    "    c+=1\n",
    "else:\n",
    "    print('shall i run or not')"
   ]
  },
  {
   "cell_type": "code",
   "execution_count": 2,
   "metadata": {},
   "outputs": [
    {
     "name": "stdout",
     "output_type": "stream",
     "text": [
      "1\n",
      "6\n",
      "10\n",
      "i am running......\n"
     ]
    }
   ],
   "source": [
    "c=1\n",
    "while c<=10:\n",
    "    print(c)\n",
    "    c+=2\n",
    "    if c%2:\n",
    "        c+=3\n",
    "    else:\n",
    "        c+=2\n",
    "else:\n",
    "    print('i am running......')"
   ]
  },
  {
   "cell_type": "code",
   "execution_count": 3,
   "metadata": {},
   "outputs": [],
   "source": [
    "import random"
   ]
  },
  {
   "cell_type": "code",
   "execution_count": 26,
   "metadata": {},
   "outputs": [
    {
     "name": "stdout",
     "output_type": "stream",
     "text": [
      " \n",
      "  $ \n",
      "   $ $ \n",
      "    $ $ $ \n"
     ]
    }
   ],
   "source": [
    "i=1\n",
    " \n",
    "for i in range(0,4):\n",
    "    print ((i+1)*' '+i*'$ ')"
   ]
  },
  {
   "cell_type": "code",
   "execution_count": 37,
   "metadata": {},
   "outputs": [
    {
     "name": "stdout",
     "output_type": "stream",
     "text": [
      "enter number:6\n",
      "* \n",
      "* * \n",
      "* * * \n",
      "* * * * \n",
      "* * * * * \n",
      "* * * * * * \n"
     ]
    }
   ],
   "source": [
    "num=int(input(\"enter number:\"))\n",
    "for i in range(1,num+1):\n",
    "    for j in range(1,i+1):\n",
    "        print(\"*\",end=\" \")\n",
    "    print()"
   ]
  },
  {
   "cell_type": "code",
   "execution_count": 12,
   "metadata": {
    "scrolled": true
   },
   "outputs": [
    {
     "name": "stdout",
     "output_type": "stream",
     "text": [
      "*\n",
      "**\n",
      "***\n",
      "****\n"
     ]
    }
   ],
   "source": [
    "for i in range(4):\n",
    "    for j in range(i+1):\n",
    "        print(\"*\",end=\"\")\n",
    "    print()\n",
    "    "
   ]
  },
  {
   "cell_type": "code",
   "execution_count": 5,
   "metadata": {},
   "outputs": [
    {
     "name": "stdout",
     "output_type": "stream",
     "text": [
      "*\n",
      "**\n",
      "***\n",
      "****\n"
     ]
    }
   ],
   "source": [
    "i=1\n",
    "while i<5:\n",
    "    print ('*'*i)\n",
    "    i+=1\n"
   ]
  },
  {
   "cell_type": "code",
   "execution_count": 28,
   "metadata": {},
   "outputs": [
    {
     "name": "stdout",
     "output_type": "stream",
     "text": [
      "*\n",
      "**\n",
      "***\n",
      "****\n",
      "*****\n"
     ]
    }
   ],
   "source": [
    "i=1\n",
    "\n",
    "for i in range(5):\n",
    "    print(''*(num-i-1)+'*'*(i+1))\n",
    "    "
   ]
  },
  {
   "cell_type": "code",
   "execution_count": 4,
   "metadata": {
    "scrolled": true
   },
   "outputs": [
    {
     "name": "stdout",
     "output_type": "stream",
     "text": [
      "12 x 1 = 12\n",
      "12 x 2 = 24\n",
      "12 x 3 = 36\n",
      "12 x 4 = 48\n",
      "12 x 5 = 60\n",
      "12 x 6 = 72\n",
      "12 x 7 = 84\n",
      "12 x 8 = 96\n",
      "12 x 9 = 108\n",
      "12 x 10 = 120\n",
      "50 x 1 = 50\n",
      "50 x 2 = 100\n",
      "50 x 3 = 150\n",
      "50 x 4 = 200\n",
      "50 x 5 = 250\n",
      "50 x 6 = 300\n",
      "50 x 7 = 350\n",
      "50 x 8 = 400\n",
      "50 x 9 = 450\n",
      "50 x 10 = 500\n",
      "29 x 1 = 29\n",
      "29 x 2 = 58\n",
      "29 x 3 = 87\n",
      "29 x 4 = 116\n",
      "29 x 5 = 145\n",
      "29 x 6 = 174\n",
      "29 x 7 = 203\n",
      "29 x 8 = 232\n",
      "29 x 9 = 261\n",
      "29 x 10 = 290\n"
     ]
    }
   ],
   "source": [
    "num1,num2,num3 = 12,50,29\n",
    "\n",
    "for i in range(1, 11):\n",
    "    print(num1,'x',i,'=',num1*i)\n",
    "    \n",
    "for i in range(1, 11):\n",
    "    print(num2,'x',i,'=',num2*i)\n",
    "    \n",
    "for i in range(1, 11):\n",
    "    print(num3,'x',i,'=',num3*i)"
   ]
  },
  {
   "cell_type": "code",
   "execution_count": 1,
   "metadata": {},
   "outputs": [
    {
     "name": "stdout",
     "output_type": "stream",
     "text": [
      "how many numbers10\n",
      "Enter number: 1\n",
      "Enter number: 2\n",
      "Enter number: 3\n",
      "Enter number: 4\n",
      "Enter number: 5\n",
      "Enter number: 6\n",
      "Enter number: 7\n",
      "Enter number: 8\n",
      "Enter number: \n"
     ]
    },
    {
     "ename": "ValueError",
     "evalue": "could not convert string to float: ",
     "output_type": "error",
     "traceback": [
      "\u001b[1;31m---------------------------------------------------------------------------\u001b[0m",
      "\u001b[1;31mValueError\u001b[0m                                Traceback (most recent call last)",
      "\u001b[1;32m<ipython-input-1-980d19896201>\u001b[0m in \u001b[0;36m<module>\u001b[1;34m()\u001b[0m\n\u001b[0;32m      2\u001b[0m \u001b[0mn\u001b[0m\u001b[1;33m=\u001b[0m\u001b[1;36m0\u001b[0m\u001b[1;33m\u001b[0m\u001b[0m\n\u001b[0;32m      3\u001b[0m \u001b[1;32mfor\u001b[0m \u001b[0mn\u001b[0m \u001b[1;32min\u001b[0m \u001b[0mrange\u001b[0m\u001b[1;33m(\u001b[0m\u001b[0mnum\u001b[0m\u001b[1;33m)\u001b[0m\u001b[1;33m:\u001b[0m\u001b[1;33m\u001b[0m\u001b[0m\n\u001b[1;32m----> 4\u001b[1;33m     \u001b[0mnumbers\u001b[0m \u001b[1;33m=\u001b[0m\u001b[0mfloat\u001b[0m\u001b[1;33m(\u001b[0m\u001b[0minput\u001b[0m\u001b[1;33m(\u001b[0m\u001b[1;34m'Enter number: '\u001b[0m\u001b[1;33m)\u001b[0m\u001b[1;33m)\u001b[0m\u001b[1;33m\u001b[0m\u001b[0m\n\u001b[0m\u001b[0;32m      5\u001b[0m     \u001b[0mn\u001b[0m\u001b[1;33m+=\u001b[0m\u001b[1;36m1\u001b[0m\u001b[1;33m\u001b[0m\u001b[0m\n\u001b[0;32m      6\u001b[0m \u001b[0mavg\u001b[0m \u001b[1;33m=\u001b[0m \u001b[0mnum\u001b[0m\u001b[1;33m/\u001b[0m\u001b[0mn\u001b[0m\u001b[1;33m\u001b[0m\u001b[0m\n",
      "\u001b[1;31mValueError\u001b[0m: could not convert string to float: "
     ]
    }
   ],
   "source": [
    "num=int(input(\"how many numbers\"))\n",
    "n=0\n",
    "for n in range(num):\n",
    "    numbers =float(input('Enter number: '))\n",
    "    n+=1\n",
    "avg = num/n\n",
    "print('Average of numbers is :', avg)"
   ]
  },
  {
   "cell_type": "code",
   "execution_count": 12,
   "metadata": {},
   "outputs": [
    {
     "name": "stdout",
     "output_type": "stream",
     "text": [
      "Enter a number: 5\n",
      "The factorial of 5 is:120\n"
     ]
    }
   ],
   "source": [
    "num = int(input(\"Enter a number: \"))\n",
    "\n",
    "fact = 1\n",
    "\n",
    "for i in range(1,num + 1):\n",
    "        fact = fact*i\n",
    "print(\"The factorial of\",num,\"is:\",end=\"\")\n",
    "print(fact)"
   ]
  },
  {
   "cell_type": "code",
   "execution_count": 9,
   "metadata": {},
   "outputs": [
    {
     "name": "stdout",
     "output_type": "stream",
     "text": [
      "Please Enter the Range:6\n",
      "0\n",
      "1\n",
      "1\n",
      "2\n",
      "3\n",
      "5\n"
     ]
    }
   ],
   "source": [
    "#fibonacci numbers\n",
    "Num = int(input(\"Please Enter the Range:\"))\n",
    "\n",
    "Value1 = 0\n",
    "Value2 = 1\n",
    "           \n",
    "for Num in range(0, Num):\n",
    "        if(Num <= 1):\n",
    "                      Next = Num\n",
    "        else:\n",
    "                      Next = Value1 + Value2\n",
    "                      Value1 = Value2\n",
    "                      Value2 = Next\n",
    "        print(Next)"
   ]
  },
  {
   "cell_type": "code",
   "execution_count": 10,
   "metadata": {},
   "outputs": [
    {
     "name": "stdout",
     "output_type": "stream",
     "text": [
      "enter number:4\n",
      "4 x 1 = 4\n",
      "4 x 2 = 8\n",
      "4 x 3 = 12\n",
      "4 x 4 = 16\n",
      "4 x 5 = 20\n",
      "4 x 6 = 24\n",
      "4 x 7 = 28\n",
      "4 x 8 = 32\n",
      "4 x 9 = 36\n",
      "4 x 10 = 40\n"
     ]
    }
   ],
   "source": [
    "num=int(input(\"enter number:\"))\n",
    "\n",
    "for i in range(1, 11):\n",
    "    print(num,'x',i,'=',num*i)"
   ]
  },
  {
   "cell_type": "code",
   "execution_count": 16,
   "metadata": {},
   "outputs": [
    {
     "name": "stdout",
     "output_type": "stream",
     "text": [
      "enter number:6\n",
      "The sum is 21\n"
     ]
    }
   ],
   "source": [
    "num=int(input(\"enter number:\"))\n",
    "s=0\n",
    "while(num > 0):\n",
    "    s += num\n",
    "    num -= 1\n",
    "print(\"The sum is\",s)"
   ]
  },
  {
   "cell_type": "code",
   "execution_count": 30,
   "metadata": {},
   "outputs": [
    {
     "name": "stdout",
     "output_type": "stream",
     "text": [
      "enter a number: 5\n",
      "it is a prime number\n"
     ]
    }
   ],
   "source": [
    "num = int(input(\"enter a number: \"))\n",
    " \n",
    "for i in range(2, num):\n",
    "    if num % i == 0:\n",
    "        print(\"it is not a prime number\")\n",
    "        break\n",
    "else:\n",
    "    print(\"it is a prime number\")"
   ]
  },
  {
   "cell_type": "code",
   "execution_count": 41,
   "metadata": {},
   "outputs": [
    {
     "name": "stdout",
     "output_type": "stream",
     "text": [
      " ****  \n",
      " *   * \n",
      " *   * \n",
      " ****  \n",
      " *     \n",
      " *     \n",
      " *     \n",
      "\n"
     ]
    }
   ],
   "source": [
    "a=\"\";    \n",
    "for i in range(0,7):    \n",
    "    for j in range(0,7):     \n",
    "        if (j == 1 or ((i == 0 or i == 3) and j > 0 and j < 5) or ((j == 5 or j == 1) and (i == 1 or i == 2))):  \n",
    "            a=a+\"*\"    \n",
    "        else:      \n",
    "            a=a+\" \"    \n",
    "    a=a+\"\\n\"    \n",
    "print(a);"
   ]
  },
  {
   "cell_type": "code",
   "execution_count": 13,
   "metadata": {},
   "outputs": [
    {
     "name": "stdout",
     "output_type": "stream",
     "text": [
      "enter a number:5\n",
      "\n",
      "***** *****\n",
      "****   ****\n",
      "***     ***\n",
      "**       **\n",
      "*         *\n",
      "**       **\n",
      "***     ***\n",
      "****   ****\n",
      "***** *****\n"
     ]
    }
   ],
   "source": [
    "n=int(input(\"enter a number:\"))\n",
    "print(\"\") \n",
    "j = 0      \n",
    "\n",
    "for i in range(0,n):  \n",
    "      \n",
    "        for j in range(i,n): \n",
    "            print(\"*\",end=\"\") \n",
    "            \n",
    "        for j in range(0,2 * i + 1): \n",
    "            print(\" \",end=\"\")\n",
    "      \n",
    "        for j in range(i,n): \n",
    "            print(\"*\",end=\"\")\n",
    "              \n",
    "        print(\"\") \n",
    "        \n",
    "for i in range(0,n-1):\n",
    "    \n",
    "        for j in range(0, i+2): \n",
    "            print(\"*\",end=\"\") \n",
    "                \n",
    "        for j in range(0,2 * (n - 1 - i) - 1): \n",
    "            print(\" \",end=\"\") \n",
    "        \n",
    "        for j in range(0, i+2): \n",
    "            print(\"*\",end=\"\") \n",
    "              \n",
    "        print(\"\") \n",
    "        "
   ]
  },
  {
   "cell_type": "code",
   "execution_count": 14,
   "metadata": {},
   "outputs": [],
   "source": [
    "def evenOdd(x): \n",
    "    if (x % 2 == 0): \n",
    "        print (\"even\")\n",
    "    else: \n",
    "        print (\"odd\")\n",
    "  "
   ]
  },
  {
   "cell_type": "code",
   "execution_count": 15,
   "metadata": {},
   "outputs": [
    {
     "name": "stdout",
     "output_type": "stream",
     "text": [
      "even\n"
     ]
    }
   ],
   "source": [
    "evenOdd(8)"
   ]
  },
  {
   "cell_type": "code",
   "execution_count": 28,
   "metadata": {},
   "outputs": [],
   "source": [
    "def greatest(a,b,c):\n",
    "    if(a>b) and (a>c):\n",
    "        print(\"a is largest\")\n",
    "    elif(b>a) and (b>c):\n",
    "        print(\"b is largest\")\n",
    "    else:\n",
    "        print(\"c is largest\")"
   ]
  },
  {
   "cell_type": "code",
   "execution_count": 18,
   "metadata": {},
   "outputs": [],
   "source": [
    "def table(num):\n",
    "\n",
    "    for i in range(1, 11):\n",
    "        print(num,'x',i,'=',num*i)"
   ]
  },
  {
   "cell_type": "code",
   "execution_count": 19,
   "metadata": {},
   "outputs": [
    {
     "name": "stdout",
     "output_type": "stream",
     "text": [
      "5 x 1 = 5\n",
      "5 x 2 = 10\n",
      "5 x 3 = 15\n",
      "5 x 4 = 20\n",
      "5 x 5 = 25\n",
      "5 x 6 = 30\n",
      "5 x 7 = 35\n",
      "5 x 8 = 40\n",
      "5 x 9 = 45\n",
      "5 x 10 = 50\n"
     ]
    }
   ],
   "source": [
    "table(5)"
   ]
  },
  {
   "cell_type": "code",
   "execution_count": 29,
   "metadata": {},
   "outputs": [
    {
     "name": "stdout",
     "output_type": "stream",
     "text": [
      "str(c) is largest\n"
     ]
    }
   ],
   "source": [
    "greatest(2,5,6)"
   ]
  },
  {
   "cell_type": "markdown",
   "metadata": {},
   "source": [
    "def counting(x):\n",
    "    x=input(\"enter any word\")\n",
    "    print(\"\")"
   ]
  },
  {
   "cell_type": "code",
   "execution_count": 3,
   "metadata": {},
   "outputs": [],
   "source": [
    "import random"
   ]
  },
  {
   "cell_type": "code",
   "execution_count": 7,
   "metadata": {},
   "outputs": [
    {
     "name": "stdout",
     "output_type": "stream",
     "text": [
      "enter a number:45\n",
      "enter a smaller number\n",
      "enter a number:30\n",
      "enter a bigger number\n",
      "enter a number:35\n",
      "enter a smaller number\n",
      "enter a number:32\n",
      "enter a bigger number\n",
      "enter a number:34\n",
      "enter a smaller number\n"
     ]
    }
   ],
   "source": [
    "import random\n",
    "comguess=random.randint(1,50)\n",
    "\n",
    "\n",
    "for x in range(0,5):\n",
    "    x=int(input(\"enter a number:\"))\n",
    "    \n",
    "    if x>50:\n",
    "        print(\"invalid input\")\n",
    "    elif x==comguess:\n",
    "        print(\"you are winner\")\n",
    "        break\n",
    "    elif x > comguess:\n",
    "        print(\"enter a smaller number\")\n",
    "    elif x<comguess:\n",
    "        print(\"enter a bigger number\")\n",
    "    "
   ]
  },
  {
   "cell_type": "code",
   "execution_count": 9,
   "metadata": {},
   "outputs": [
    {
     "name": "stdout",
     "output_type": "stream",
     "text": [
      "enter a:5\n",
      "enter b:6\n",
      "value of a: 6\n",
      "value of b: 5\n"
     ]
    }
   ],
   "source": [
    "x=int(input(\"enter a:\"))\n",
    "y=int(input(\"enter b:\"))\n",
    "\n",
    "x,y=y,x\n",
    "\n",
    "print(\"value of a:\",x)\n",
    "print(\"value of b:\",y)"
   ]
  },
  {
   "cell_type": "code",
   "execution_count": 64,
   "metadata": {},
   "outputs": [
    {
     "name": "stdout",
     "output_type": "stream",
     "text": [
      "\n",
      "1 \n",
      "1 1 \n",
      "1 1 1 \n",
      "1 1 1 1 \n"
     ]
    }
   ],
   "source": [
    "for i in range(5):\n",
    "    for j in range(1,i+1):\n",
    "        print(\"1\",end=\" \")\n",
    "    print()"
   ]
  },
  {
   "cell_type": "code",
   "execution_count": 52,
   "metadata": {},
   "outputs": [
    {
     "name": "stdout",
     "output_type": "stream",
     "text": [
      "1 \n"
     ]
    }
   ],
   "source": [
    "pattern1(6)"
   ]
  },
  {
   "cell_type": "code",
   "execution_count": 50,
   "metadata": {},
   "outputs": [
    {
     "data": {
      "text/plain": [
       "65"
      ]
     },
     "execution_count": 50,
     "metadata": {},
     "output_type": "execute_result"
    }
   ],
   "source": [
    "ord('A')"
   ]
  },
  {
   "cell_type": "code",
   "execution_count": 53,
   "metadata": {},
   "outputs": [
    {
     "data": {
      "text/plain": [
       "'A'"
      ]
     },
     "execution_count": 53,
     "metadata": {},
     "output_type": "execute_result"
    }
   ],
   "source": [
    "chr(65)"
   ]
  },
  {
   "cell_type": "code",
   "execution_count": 4,
   "metadata": {},
   "outputs": [
    {
     "name": "stdout",
     "output_type": "stream",
     "text": [
      "A \n",
      "A B \n",
      "A B C \n",
      "A B C D \n",
      "A B C D E \n"
     ]
    }
   ],
   "source": [
    "for i in range(65,70):\n",
    "    for j in range(65,i+1):\n",
    "        print(chr(j), end=\" \")\n",
    "    print()"
   ]
  },
  {
   "cell_type": "code",
   "execution_count": 6,
   "metadata": {},
   "outputs": [
    {
     "name": "stdout",
     "output_type": "stream",
     "text": [
      "A \n",
      "B B \n",
      "C C C \n",
      "D D D D \n",
      "E E E E E \n"
     ]
    }
   ],
   "source": [
    "for i in range(65,70):\n",
    "    for j in range(65,i+1):\n",
    "        print(chr(i), end=\" \")\n",
    "    print()"
   ]
  },
  {
   "cell_type": "code",
   "execution_count": 7,
   "metadata": {},
   "outputs": [
    {
     "name": "stdout",
     "output_type": "stream",
     "text": [
      "A\n",
      "BC\n",
      "CDE\n",
      "DEFG\n",
      "EFGHI\n"
     ]
    }
   ],
   "source": [
    "for i in range(65,70):\n",
    "    k=i\n",
    "    for j in range(65,i+1):\n",
    "        print(chr(k),end=\"\")\n",
    "        k=k+1\n",
    "    print()"
   ]
  },
  {
   "cell_type": "code",
   "execution_count": 11,
   "metadata": {},
   "outputs": [
    {
     "name": "stdout",
     "output_type": "stream",
     "text": [
      "enter your name:jayesh\n",
      "jayesh\n",
      "jayeshjayesh\n",
      "jayeshjayeshjayesh\n",
      "jayeshjayeshjayeshjayesh\n",
      "jayeshjayeshjayeshjayeshjayesh\n",
      "jayeshjayeshjayeshjayeshjayeshjayesh\n"
     ]
    }
   ],
   "source": [
    "x=input(\"enter your name:\")\n",
    "for i in range(0,6):\n",
    "    for j in range(0,i+1):\n",
    "        print(str(x),end=\"\")\n",
    "    print()"
   ]
  },
  {
   "cell_type": "code",
   "execution_count": 12,
   "metadata": {},
   "outputs": [],
   "source": [
    "def table(num):\n",
    "\n",
    "    for i in range(1, 11):\n",
    "        print(num,'x',i,'=',num*i)"
   ]
  },
  {
   "cell_type": "code",
   "execution_count": 13,
   "metadata": {},
   "outputs": [
    {
     "name": "stdout",
     "output_type": "stream",
     "text": [
      "6 x 1 = 6\n",
      "6 x 2 = 12\n",
      "6 x 3 = 18\n",
      "6 x 4 = 24\n",
      "6 x 5 = 30\n",
      "6 x 6 = 36\n",
      "6 x 7 = 42\n",
      "6 x 8 = 48\n",
      "6 x 9 = 54\n",
      "6 x 10 = 60\n"
     ]
    }
   ],
   "source": [
    "table(6)"
   ]
  },
  {
   "cell_type": "code",
   "execution_count": 35,
   "metadata": {},
   "outputs": [],
   "source": [
    "def unique(list1): \n",
    "    unique_list = [] \n",
    "    \n",
    "    for x in list1:  \n",
    "        if x not in unique_list: \n",
    "            unique_list.append(x)  \n",
    "    print(x)"
   ]
  },
  {
   "cell_type": "code",
   "execution_count": 36,
   "metadata": {},
   "outputs": [
    {
     "name": "stdout",
     "output_type": "stream",
     "text": [
      "30\n"
     ]
    }
   ],
   "source": [
    "unique([10,10,20,30,30])"
   ]
  },
  {
   "cell_type": "code",
   "execution_count": 59,
   "metadata": {},
   "outputs": [],
   "source": [
    "a={'ajay':'python','nikhil':'ajay','aws':'ajay','kushal':'python'}\n",
    "d={}\n",
    "for key, value in a.items(): \n",
    "    if value not in d: \n",
    "        d[value] = [key]\n",
    "    else: \n",
    "        d[value].append(key)"
   ]
  },
  {
   "cell_type": "code",
   "execution_count": 54,
   "metadata": {},
   "outputs": [
    {
     "data": {
      "text/plain": [
       "{'python': ['ajay', 'k', 'u', 's', 'h', 'a', 'l'],\n",
       " 'ajay': ['nikhil', 'a', 'w', 's']}"
      ]
     },
     "execution_count": 54,
     "metadata": {},
     "output_type": "execute_result"
    }
   ],
   "source": [
    "d"
   ]
  },
  {
   "cell_type": "code",
   "execution_count": 1,
   "metadata": {},
   "outputs": [
    {
     "name": "stdout",
     "output_type": "stream",
     "text": [
      "enter list:1234\n"
     ]
    }
   ],
   "source": [
    "num=list(input(\"enter list:\"))\n",
    "def check(num):\n",
    "    \n",
    "    if len(num)==1:\n",
    "        print(\"line\")\n",
    "    elif len(num)==2:\n",
    "        print(\"parallel\")\n",
    "    elif len(num)==3:\n",
    "        print(\"triangle\")\n",
    "    elif len(num)==4:\n",
    "        print(\"square\")\n",
    "    else:\n",
    "        print(\"invalid input\")    "
   ]
  },
  {
   "cell_type": "code",
   "execution_count": 2,
   "metadata": {
    "scrolled": true
   },
   "outputs": [
    {
     "data": {
      "text/plain": [
       "['1', '2', '3', '4']"
      ]
     },
     "execution_count": 2,
     "metadata": {},
     "output_type": "execute_result"
    }
   ],
   "source": [
    "num"
   ]
  },
  {
   "cell_type": "code",
   "execution_count": 3,
   "metadata": {
    "scrolled": true
   },
   "outputs": [
    {
     "name": "stdout",
     "output_type": "stream",
     "text": [
      "square\n"
     ]
    }
   ],
   "source": [
    "check(num)"
   ]
  },
  {
   "cell_type": "code",
   "execution_count": 13,
   "metadata": {},
   "outputs": [
    {
     "name": "stdout",
     "output_type": "stream",
     "text": [
      "enter list:1233445\n"
     ]
    }
   ],
   "source": [
    "def (sequence,item):\n",
    "    count=sequence.count(item)\n",
    "    for var in range(count)\n",
    "        sequence.remove(item)\n",
    "    print(sequence)"
   ]
  },
  {
   "cell_type": "code",
   "execution_count": 14,
   "metadata": {},
   "outputs": [
    {
     "data": {
      "text/plain": [
       "['1', '2', '3', '3', '4', '4', '5']"
      ]
     },
     "execution_count": 14,
     "metadata": {},
     "output_type": "execute_result"
    }
   ],
   "source": [
    "li"
   ]
  },
  {
   "cell_type": "code",
   "execution_count": 18,
   "metadata": {},
   "outputs": [],
   "source": [
    "def ncount(seq,item):\n",
    "    l=0\n",
    "    print(seq)\n",
    "    for var in seq:\n",
    "        if var == item:\n",
    "            print(\"^\",end=\"\")\n",
    "            l+=1\n",
    "        else:\n",
    "            print(\" \",end=\"\")"
   ]
  },
  {
   "cell_type": "code",
   "execution_count": 20,
   "metadata": {},
   "outputs": [
    {
     "name": "stdout",
     "output_type": "stream",
     "text": [
      "bananana\n",
      "  ^ ^ ^ "
     ]
    }
   ],
   "source": [
    "ncount(\"bananana\",\"n\")"
   ]
  },
  {
   "cell_type": "code",
   "execution_count": null,
   "metadata": {},
   "outputs": [],
   "source": []
  }
 ],
 "metadata": {
  "kernelspec": {
   "display_name": "Python 3",
   "language": "python",
   "name": "python3"
  },
  "language_info": {
   "codemirror_mode": {
    "name": "ipython",
    "version": 3
   },
   "file_extension": ".py",
   "mimetype": "text/x-python",
   "name": "python",
   "nbconvert_exporter": "python",
   "pygments_lexer": "ipython3",
   "version": "3.7.0"
  }
 },
 "nbformat": 4,
 "nbformat_minor": 2
}
